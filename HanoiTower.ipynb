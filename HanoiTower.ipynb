{
 "cells": [
  {
   "cell_type": "markdown",
   "metadata": {},
   "source": [
    "### Hanoi Tower problem\n",
    "refer to: https://www.geeksforgeeks.org/c-program-for-tower-of-hanoi/"
   ]
  },
  {
   "cell_type": "code",
   "execution_count": 1,
   "metadata": {},
   "outputs": [],
   "source": [
    "def hanoi_tower(n, source, via, target):\n",
    "    if n == 0: return\n",
    "    hanoi_tower(n-1, source, target, via)\n",
    "    print(\"{} moves from {} to {}\".format(n, source, target))\n",
    "    hanoi_tower(n-1, via, source, target)"
   ]
  },
  {
   "cell_type": "code",
   "execution_count": 2,
   "metadata": {},
   "outputs": [
    {
     "name": "stdout",
     "output_type": "stream",
     "text": [
      "1 moves from A to C\n"
     ]
    }
   ],
   "source": [
    "hanoi_tower(1, \"A\", \"B\", \"C\")"
   ]
  },
  {
   "cell_type": "code",
   "execution_count": 3,
   "metadata": {},
   "outputs": [
    {
     "name": "stdout",
     "output_type": "stream",
     "text": [
      "1 moves from A to B\n",
      "2 moves from A to C\n",
      "1 moves from B to C\n"
     ]
    }
   ],
   "source": [
    "hanoi_tower(2, \"A\", \"B\", \"C\")"
   ]
  },
  {
   "cell_type": "code",
   "execution_count": 4,
   "metadata": {},
   "outputs": [
    {
     "name": "stdout",
     "output_type": "stream",
     "text": [
      "1 moves from A to C\n",
      "2 moves from A to B\n",
      "1 moves from C to B\n",
      "3 moves from A to C\n",
      "1 moves from B to A\n",
      "2 moves from B to C\n",
      "1 moves from A to C\n"
     ]
    }
   ],
   "source": [
    "hanoi_tower(3, \"A\", \"B\", \"C\")"
   ]
  },
  {
   "cell_type": "code",
   "execution_count": 5,
   "metadata": {},
   "outputs": [
    {
     "name": "stdout",
     "output_type": "stream",
     "text": [
      "1 moves from A to B\n",
      "2 moves from A to C\n",
      "1 moves from B to C\n",
      "3 moves from A to B\n",
      "1 moves from C to A\n",
      "2 moves from C to B\n",
      "1 moves from A to B\n",
      "4 moves from A to C\n",
      "1 moves from B to C\n",
      "2 moves from B to A\n",
      "1 moves from C to A\n",
      "3 moves from B to C\n",
      "1 moves from A to B\n",
      "2 moves from A to C\n",
      "1 moves from B to C\n"
     ]
    }
   ],
   "source": [
    "hanoi_tower(4, \"A\", \"B\", \"C\")"
   ]
  },
  {
   "cell_type": "code",
   "execution_count": 6,
   "metadata": {},
   "outputs": [
    {
     "name": "stdout",
     "output_type": "stream",
     "text": [
      "1 moves from A to C\n",
      "2 moves from A to B\n",
      "1 moves from C to B\n",
      "3 moves from A to C\n",
      "1 moves from B to A\n",
      "2 moves from B to C\n",
      "1 moves from A to C\n",
      "4 moves from A to B\n",
      "1 moves from C to B\n",
      "2 moves from C to A\n",
      "1 moves from B to A\n",
      "3 moves from C to B\n",
      "1 moves from A to C\n",
      "2 moves from A to B\n",
      "1 moves from C to B\n",
      "5 moves from A to C\n",
      "1 moves from B to A\n",
      "2 moves from B to C\n",
      "1 moves from A to C\n",
      "3 moves from B to A\n",
      "1 moves from C to B\n",
      "2 moves from C to A\n",
      "1 moves from B to A\n",
      "4 moves from B to C\n",
      "1 moves from A to C\n",
      "2 moves from A to B\n",
      "1 moves from C to B\n",
      "3 moves from A to C\n",
      "1 moves from B to A\n",
      "2 moves from B to C\n",
      "1 moves from A to C\n"
     ]
    }
   ],
   "source": [
    "hanoi_tower(5, \"A\", \"B\", \"C\")"
   ]
  },
  {
   "cell_type": "code",
   "execution_count": null,
   "metadata": {},
   "outputs": [],
   "source": []
  }
 ],
 "metadata": {
  "kernelspec": {
   "display_name": "Python 3",
   "language": "python",
   "name": "python3"
  },
  "language_info": {
   "codemirror_mode": {
    "name": "ipython",
    "version": 3
   },
   "file_extension": ".py",
   "mimetype": "text/x-python",
   "name": "python",
   "nbconvert_exporter": "python",
   "pygments_lexer": "ipython3",
   "version": "3.7.0"
  }
 },
 "nbformat": 4,
 "nbformat_minor": 2
}
