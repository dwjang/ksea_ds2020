{
  "cells": [
    {
      "metadata": {
        "trusted": true
      },
      "cell_type": "code",
      "source": "import random\n\nrandom.seed(2046389)\n\ndef gradient_descent_simple(f, df, alpha=0.01, max_iter=1000, precision=1e-8):\n    \"\"\"\n    f: a function of x\n    df: df/dx\n    max_iter: maximum number of iteration to be run\n    precision: acceptable error\n    \"\"\"\n    pre_x = random.random()*10\n    cur_x = pre_x\n    x_errors = []\n    for i in range(max_iter):\n        cur_x = cur_x - alpha * df(cur_x)\n        x_error = abs(pre_x - cur_x)\n        x_errors.append(x_error)\n        if x_error < precision:\n            y_error = f(pre_x) - f(cur_x)\n            print(\"error reached to the acceptable precision:\", x_error, y_error)\n            break\n        if i%100 == 0:\n            print(i, x_error, cur_x)\n        pre_x = cur_x\n    if i == max_iter-1: print(\"max_iter reached\", i)\n        \n    return cur_x, x_errors",
      "execution_count": 17,
      "outputs": []
    },
    {
      "metadata": {
        "trusted": true
      },
      "cell_type": "code",
      "source": "f = lambda x: x**2 - 2*x + 1\ndf = lambda x: 2*x - 2\nx, errors = gradient_descent_simple(f, df)\nprint(x)",
      "execution_count": 18,
      "outputs": [
        {
          "output_type": "stream",
          "text": "0 0.004497307879811174 0.77963191388925\n100 0.0005964309737425122 0.9707748822866155\n200 7.909841085962377e-05 0.9961241778678793\n300 1.048999612018875e-05 0.9994859901901114\n400 1.3911786267417625e-06 0.9999318322472871\n500 1.8449749161764117e-07 0.999990959622909\n600 2.4467975423547728e-08 0.999998801069205\nerror reached to the acceptable precision: 9.857605620666732e-09 9.658940314238862e-15\n0.9999995169773219\n",
          "name": "stdout"
        }
      ]
    },
    {
      "metadata": {
        "trusted": true
      },
      "cell_type": "code",
      "source": "import matplotlib.pyplot as plt\n\nplt.plot(errors)\nplt.xlabel(\"iteration\")\nplt.ylabel(\"error\")\nplt.show()",
      "execution_count": 19,
      "outputs": [
        {
          "output_type": "display_data",
          "data": {
            "image/png": "[encoded data removed]",
            "text/plain": "<Figure size 432x288 with 1 Axes>"
          },
          "metadata": {
            "needs_background": "light"
          }
        }
      ]
    },
    {
      "metadata": {
        "trusted": true
      },
      "cell_type": "code",
      "source": "",
      "execution_count": null,
      "outputs": []
    }
  ],
  "metadata": {
    "kernelspec": {
      "name": "python36",
      "display_name": "Python 3.6",
      "language": "python"
    },
    "language_info": {
      "mimetype": "text/x-python",
      "nbconvert_exporter": "python",
      "name": "python",
      "pygments_lexer": "ipython3",
      "version": "3.6.6",
      "file_extension": ".py",
      "codemirror_mode": {
        "version": 3,
        "name": "ipython"
      }
    }
  },
  "nbformat": 4,
  "nbformat_minor": 2
}