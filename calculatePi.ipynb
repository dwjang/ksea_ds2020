{
 "cells": [
  {
   "cell_type": "markdown",
   "metadata": {},
   "source": [
    "### Calculate $\\pi$ using Archimedes method\n",
    "refer to: https://www.craig-wood.com/nick/articles/pi-archimedes/"
   ]
  },
  {
   "cell_type": "code",
   "execution_count": 1,
   "metadata": {},
   "outputs": [
    {
     "name": "stdout",
     "output_type": "stream",
     "text": [
      "0 4 1.4142135623730951 2.8284271247461903\n",
      "1 8 0.7653668647301795 3.061467458920718\n",
      "2 16 0.3901806440322566 3.121445152258053\n",
      "3 32 0.1960342806591213 3.1365484905459406\n",
      "4 64 0.0981353486548356 3.140331156954739\n",
      "5 128 0.049082457045824326 3.141277250932757\n",
      "6 256 0.024543076571438636 3.1415138011441455\n",
      "7 512 0.012271769298312042 3.1415729403678827\n",
      "8 1024 0.006135913525937424 3.141587725279961\n",
      "9 2048 0.0030679603725631203 3.141591421504635\n"
     ]
    }
   ],
   "source": [
    "d2 = 2\n",
    "side = 4\n",
    "\n",
    "for i in range(10):\n",
    "    pi = side * d2**0.5 / 2.0\n",
    "    print(i, side, d2**0.5, pi)\n",
    "    d2 = 2 - 2 * (1 - d2/4.0)**0.5\n",
    "    side = 2 * side"
   ]
  },
  {
   "cell_type": "code",
   "execution_count": 3,
   "metadata": {},
   "outputs": [],
   "source": [
    "def calpi(side, d2):\n",
    "    pi = side * d2**0.5 / 2.0\n",
    "    return pi\n",
    "\n",
    "def calsidelength(d2):\n",
    "    d = 2 - 2 * (1 - d2/4.0)**0.5\n",
    "    return d\n",
    "\n",
    "def cuteprint(i, side, d2, pi):\n",
    "    #print(i, side, d2, pi)\n",
    "    #outstr = \"iteration: {}, side:{}, length:{}, estimated pi:{}\".format(i, side, d2, pi)\n",
    "    outstr = \"iteration: %2d, side: %2d, length: %10.8f, estimated pi: %20.18f\" % (i, side, d2, pi)\n",
    "    print(outstr)\n",
    "\n",
    "def calpibyn(d2, side, nmax):\n",
    "    for i in range(nmax):\n",
    "        pi = calpi(side, d2)\n",
    "        cuteprint(i, side, d2, pi)\n",
    "        d2 = calsidelength(d2)\n",
    "        side *= 2    "
   ]
  },
  {
   "cell_type": "code",
   "execution_count": 4,
   "metadata": {},
   "outputs": [
    {
     "name": "stdout",
     "output_type": "stream",
     "text": [
      "iteration:  0, side:  4, length: 2.00000000, estimated pi: 2.828427124746190291\n",
      "iteration:  1, side:  8, length: 0.58578644, estimated pi: 3.061467458920717810\n",
      "iteration:  2, side: 16, length: 0.15224093, estimated pi: 3.121445152258052858\n",
      "iteration:  3, side: 32, length: 0.03842944, estimated pi: 3.136548490545940648\n",
      "iteration:  4, side: 64, length: 0.00963055, estimated pi: 3.140331156954739189\n",
      "iteration:  5, side: 128, length: 0.00240909, estimated pi: 3.141277250932756893\n",
      "iteration:  6, side: 256, length: 0.00060236, estimated pi: 3.141513801144145468\n",
      "iteration:  7, side: 512, length: 0.00015060, estimated pi: 3.141572940367882705\n",
      "iteration:  8, side: 1024, length: 0.00003765, estimated pi: 3.141587725279960885\n",
      "iteration:  9, side: 2048, length: 0.00000941, estimated pi: 3.141591421504635218\n"
     ]
    }
   ],
   "source": [
    "d2 = 2\n",
    "side = 4\n",
    "nmax = 10\n",
    "calpibyn(d2, side, nmax)"
   ]
  },
  {
   "cell_type": "code",
   "execution_count": null,
   "metadata": {},
   "outputs": [],
   "source": []
  }
 ],
 "metadata": {
  "kernelspec": {
   "display_name": "Python 3",
   "language": "python",
   "name": "python3"
  },
  "language_info": {
   "codemirror_mode": {
    "name": "ipython",
    "version": 3
   },
   "file_extension": ".py",
   "mimetype": "text/x-python",
   "name": "python",
   "nbconvert_exporter": "python",
   "pygments_lexer": "ipython3",
   "version": "3.7.0"
  }
 },
 "nbformat": 4,
 "nbformat_minor": 2
}
